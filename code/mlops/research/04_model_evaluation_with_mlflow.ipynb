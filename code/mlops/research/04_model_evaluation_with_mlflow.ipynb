{
 "cells": [
  {
   "cell_type": "code",
   "execution_count": 5,
   "metadata": {
    "ExecuteTime": {
     "end_time": "2023-11-11T15:59:19.953020900Z",
     "start_time": "2023-11-11T15:59:19.918201700Z"
    }
   },
   "outputs": [],
   "source": [
    "import os"
   ]
  },
  {
   "cell_type": "code",
   "execution_count": 6,
   "metadata": {
    "ExecuteTime": {
     "end_time": "2023-11-11T15:59:20.139628400Z",
     "start_time": "2023-11-11T15:59:20.123618300Z"
    }
   },
   "outputs": [
    {
     "data": {
      "text/plain": "'C:\\\\deletable\\\\apps\\\\CoTProject\\\\code\\\\mlops'"
     },
     "execution_count": 6,
     "metadata": {},
     "output_type": "execute_result"
    }
   ],
   "source": [
    "%pwd"
   ]
  },
  {
   "cell_type": "code",
   "execution_count": 7,
   "metadata": {
    "ExecuteTime": {
     "end_time": "2023-11-11T15:59:22.226058600Z",
     "start_time": "2023-11-11T15:59:22.200859600Z"
    }
   },
   "outputs": [],
   "source": [
    "os.chdir(\"../\")"
   ]
  },
  {
   "cell_type": "code",
   "execution_count": 8,
   "metadata": {
    "ExecuteTime": {
     "end_time": "2023-11-11T15:59:23.015988600Z",
     "start_time": "2023-11-11T15:59:22.992701800Z"
    }
   },
   "outputs": [
    {
     "data": {
      "text/plain": "'C:\\\\deletable\\\\apps\\\\CoTProject\\\\code'"
     },
     "execution_count": 8,
     "metadata": {},
     "output_type": "execute_result"
    }
   ],
   "source": [
    "%pwd"
   ]
  },
  {
   "cell_type": "code",
   "execution_count": 8,
   "outputs": [],
   "source": [],
   "metadata": {
    "collapsed": false,
    "ExecuteTime": {
     "end_time": "2023-11-11T15:59:30.394794100Z",
     "start_time": "2023-11-11T15:59:30.366794800Z"
    }
   }
  },
  {
   "cell_type": "code",
   "execution_count": 9,
   "metadata": {
    "ExecuteTime": {
     "end_time": "2023-11-11T15:59:31.393203400Z",
     "start_time": "2023-11-11T15:59:31.372497100Z"
    }
   },
   "outputs": [],
   "source": [
    "os.environ[\"MLFLOW_TRACKING_URI\"]=\"https://dagshub.com/Hassen-Elmahrouk/CoTProject.mlflow\"\n",
    "os.environ[\"MLFLOW_TRACKING_USERNAME\"]=\"Hassen-Elmahrouk\"\n",
    "os.environ[\"MLFLOW_TRACKING_PASSWORD\"]=\"92f39719f5c80628067c008d65ad4bdfd797d941\""
   ]
  },
  {
   "cell_type": "code",
   "execution_count": 10,
   "metadata": {
    "ExecuteTime": {
     "end_time": "2023-11-11T15:59:44.599372800Z",
     "start_time": "2023-11-11T15:59:33.530210200Z"
    }
   },
   "outputs": [],
   "source": [
    "import tensorflow as tf"
   ]
  },
  {
   "cell_type": "code",
   "execution_count": 24,
   "metadata": {
    "ExecuteTime": {
     "end_time": "2023-11-11T16:08:16.752401100Z",
     "start_time": "2023-11-11T16:08:15.394450Z"
    }
   },
   "outputs": [],
   "source": [
    "model = tf.keras.models.load_model(\"/deletable/apps/CoTProject/code/mlops/artifacts/training/model.h5\")"
   ]
  },
  {
   "cell_type": "code",
   "execution_count": 25,
   "metadata": {
    "ExecuteTime": {
     "end_time": "2023-11-11T16:08:18.110044200Z",
     "start_time": "2023-11-11T16:08:18.083727100Z"
    }
   },
   "outputs": [],
   "source": [
    "from dataclasses import dataclass\n",
    "from pathlib import Path\n",
    "\n",
    "@dataclass(frozen=True)\n",
    "class EvaluationConfig:\n",
    "    path_of_model: Path\n",
    "    training_data: Path\n",
    "    all_params: dict\n",
    "    mlflow_uri: str\n",
    "    params_image_size: list\n",
    "    params_batch_size: int"
   ]
  },
  {
   "cell_type": "code",
   "execution_count": 26,
   "metadata": {
    "ExecuteTime": {
     "end_time": "2023-11-11T16:08:18.845196700Z",
     "start_time": "2023-11-11T16:08:18.829197700Z"
    }
   },
   "outputs": [],
   "source": [
    "from src.stawberryDeseaseClassifier.constants import *\n",
    "from src.stawberryDeseaseClassifier.utils.common import read_yaml, create_directories, save_json"
   ]
  },
  {
   "cell_type": "code",
   "execution_count": 37,
   "metadata": {
    "ExecuteTime": {
     "end_time": "2023-11-11T19:07:23.676678900Z",
     "start_time": "2023-11-11T19:07:23.654693600Z"
    }
   },
   "outputs": [],
   "source": [
    "class ConfigurationManager:\n",
    "    def __init__(\n",
    "        self, \n",
    "        config_filepath = CONFIG_FILE_PATH,\n",
    "        params_filepath = PARAMS_FILE_PATH):\n",
    "        self.config = read_yaml(config_filepath)\n",
    "        self.params = read_yaml(params_filepath)\n",
    "        create_directories([self.config.artifacts_root])\n",
    "\n",
    "    \n",
    "    def get_evaluation_config(self) -> EvaluationConfig:\n",
    "        eval_config = EvaluationConfig(\n",
    "            path_of_model=\"/deletable/apps/CoTProject/code/mlops/artifacts/training/model.h5\",\n",
    "            training_data=\"/deletable/apps/CoTProject/code/mlops/artifacts/data_ingestion/kidney-ct-scan-image\",\n",
    "            mlflow_uri=\"https://dagshub.com/Hassen-Elmahrouk/CoTProject.mlflow\",\n",
    "            all_params=self.params,\n",
    "            params_image_size=self.params.IMAGE_SIZE,\n",
    "            params_batch_size=self.params.BATCH_SIZE\n",
    "        )\n",
    "        return eval_config\n",
    "\n",
    "\n"
   ]
  },
  {
   "cell_type": "code",
   "execution_count": 38,
   "metadata": {
    "ExecuteTime": {
     "end_time": "2023-11-11T19:07:24.120602800Z",
     "start_time": "2023-11-11T19:07:24.081022700Z"
    }
   },
   "outputs": [],
   "source": [
    "import tensorflow as tf\n",
    "from pathlib import Path\n",
    "import mlflow\n",
    "import mlflow.keras\n",
    "from urllib.parse import urlparse"
   ]
  },
  {
   "cell_type": "code",
   "execution_count": 39,
   "metadata": {
    "ExecuteTime": {
     "end_time": "2023-11-11T19:07:24.380349500Z",
     "start_time": "2023-11-11T19:07:24.358750Z"
    }
   },
   "outputs": [],
   "source": [
    "class Evaluation:\n",
    "    def __init__(self, config: EvaluationConfig):\n",
    "        self.config = config\n",
    "\n",
    "   \n",
    "    def _valid_generator(self):\n",
    "\n",
    "        datagenerator_kwargs = dict(\n",
    "            rescale = 1./255,\n",
    "            validation_split=0.30\n",
    "        )\n",
    "\n",
    "        dataflow_kwargs = dict(\n",
    "            target_size=self.config.params_image_size[:-1],\n",
    "            batch_size=self.config.params_batch_size,\n",
    "            interpolation=\"bilinear\"\n",
    "        )\n",
    "\n",
    "        valid_datagenerator = tf.keras.preprocessing.image.ImageDataGenerator(\n",
    "            **datagenerator_kwargs\n",
    "        )\n",
    "\n",
    "        self.valid_generator = valid_datagenerator.flow_from_directory(\n",
    "            directory=self.config.training_data,\n",
    "            subset=\"validation\",\n",
    "            shuffle=False,\n",
    "            **dataflow_kwargs\n",
    "        )\n",
    "\n",
    "\n",
    "    @staticmethod\n",
    "    def load_model(path: Path) -> tf.keras.Model:\n",
    "        return tf.keras.models.load_model(path)\n",
    "    \n",
    "\n",
    "    def evaluation(self):\n",
    "        self.model = self.load_model(self.config.path_of_model)\n",
    "        self._valid_generator()\n",
    "        self.score = model.evaluate(self.valid_generator)\n",
    "        self.save_score()\n",
    "\n",
    "    def save_score(self):\n",
    "        scores = {\"loss\": self.score[0], \"accuracy\": self.score[1]}\n",
    "        save_json(path=Path(\"/deletable/apps/CoTProject/code/mlops/artifacts/scores.json\"), data=scores)\n",
    "\n",
    "    \n",
    "    def log_into_mlflow(self):\n",
    "        mlflow.set_registry_uri(self.config.mlflow_uri)\n",
    "        tracking_url_type_store = urlparse(mlflow.get_tracking_uri()).scheme\n",
    "        \n",
    "        with mlflow.start_run():\n",
    "            mlflow.log_params(self.config.all_params)\n",
    "            mlflow.log_metrics(\n",
    "                {\"loss\": self.score[0], \"accuracy\": self.score[1]}\n",
    "            )\n",
    "            # Model registry does not work with file store\n",
    "            if tracking_url_type_store != \"file\":\n",
    "\n",
    "                # Register the model\n",
    "                # There are other ways to use the Model Registry, which depends on the use case,\n",
    "                # please refer to the doc for more information:\n",
    "                # https://mlflow.org/docs/latest/model-registry.html#api-workflow\n",
    "                mlflow.keras.log_model(self.model, \"model\", registered_model_name=\"VGG16Model\")\n",
    "            else:\n",
    "                mlflow.keras.log_model(self.model, \"model\")\n"
   ]
  },
  {
   "cell_type": "code",
   "execution_count": 40,
   "metadata": {
    "ExecuteTime": {
     "end_time": "2023-11-11T19:11:42.647283200Z",
     "start_time": "2023-11-11T19:07:25.560099500Z"
    }
   },
   "outputs": [
    {
     "name": "stdout",
     "output_type": "stream",
     "text": [
      "[2023-11-11 20:07:25,573: INFO : common : yaml file: \\deletable\\apps\\CoTProject\\code\\mlops\\config\\config.yaml loaded successfully]\n",
      "[2023-11-11 20:07:25,590: INFO : common : yaml file: \\deletable\\apps\\CoTProject\\code\\mlops\\params.yaml loaded successfully]\n",
      "[2023-11-11 20:07:25,597: INFO : common : created directory at: /deletable/apps/CoTProject/code/mlops/artifacts]\n",
      "Found 139 images belonging to 2 classes.\n",
      "139/139 [==============================] - 216s 2s/step - loss: 7.5675 - accuracy: 0.7050\n",
      "[2023-11-11 20:11:04,197: INFO : common : json file saved at: \\deletable\\apps\\CoTProject\\code\\mlops\\artifacts\\scores.json]\n"
     ]
    },
    {
     "name": "stderr",
     "output_type": "stream",
     "text": [
      "2023/11/11 20:11:14 WARNING mlflow.tensorflow: You are saving a TensorFlow Core model or Keras model without a signature. Inference with mlflow.pyfunc.spark_udf() will not work unless the model's pyfunc representation accepts pandas DataFrames as inference inputs.\n"
     ]
    },
    {
     "name": "stdout",
     "output_type": "stream",
     "text": [
      "[2023-11-11 20:11:17,569: WARNING : save : Found untraced functions such as _jit_compiled_convolution_op, _jit_compiled_convolution_op, _jit_compiled_convolution_op, _jit_compiled_convolution_op, _jit_compiled_convolution_op while saving (showing 5 of 14). These functions will not be directly callable after loading.]\n",
      "INFO:tensorflow:Assets written to: C:\\Users\\Hasse\\AppData\\Local\\Temp\\tmpcunkm2km\\model\\data\\model\\assets\n",
      "[2023-11-11 20:11:18,820: INFO : builder_impl : Assets written to: C:\\Users\\Hasse\\AppData\\Local\\Temp\\tmpcunkm2km\\model\\data\\model\\assets]\n"
     ]
    },
    {
     "ename": "MlflowException",
     "evalue": "API request to endpoint /api/2.0/mlflow/runs/get failed with error code 400 != 200. Response body: '\"repo not associated with run\"'",
     "output_type": "error",
     "traceback": [
      "\u001B[1;31m---------------------------------------------------------------------------\u001B[0m",
      "\u001B[1;31mMlflowException\u001B[0m                           Traceback (most recent call last)",
      "Cell \u001B[1;32mIn[40], line 9\u001B[0m\n\u001B[0;32m      6\u001B[0m     evaluation\u001B[38;5;241m.\u001B[39mlog_into_mlflow()\n\u001B[0;32m      8\u001B[0m \u001B[38;5;28;01mexcept\u001B[39;00m \u001B[38;5;167;01mException\u001B[39;00m \u001B[38;5;28;01mas\u001B[39;00m e:\n\u001B[1;32m----> 9\u001B[0m    \u001B[38;5;28;01mraise\u001B[39;00m e\n",
      "Cell \u001B[1;32mIn[40], line 6\u001B[0m\n\u001B[0;32m      4\u001B[0m     evaluation \u001B[38;5;241m=\u001B[39m Evaluation(eval_config)\n\u001B[0;32m      5\u001B[0m     evaluation\u001B[38;5;241m.\u001B[39mevaluation()\n\u001B[1;32m----> 6\u001B[0m     \u001B[43mevaluation\u001B[49m\u001B[38;5;241;43m.\u001B[39;49m\u001B[43mlog_into_mlflow\u001B[49m\u001B[43m(\u001B[49m\u001B[43m)\u001B[49m\n\u001B[0;32m      8\u001B[0m \u001B[38;5;28;01mexcept\u001B[39;00m \u001B[38;5;167;01mException\u001B[39;00m \u001B[38;5;28;01mas\u001B[39;00m e:\n\u001B[0;32m      9\u001B[0m    \u001B[38;5;28;01mraise\u001B[39;00m e\n",
      "Cell \u001B[1;32mIn[39], line 63\u001B[0m, in \u001B[0;36mEvaluation.log_into_mlflow\u001B[1;34m(self)\u001B[0m\n\u001B[0;32m     56\u001B[0m \u001B[38;5;66;03m# Model registry does not work with file store\u001B[39;00m\n\u001B[0;32m     57\u001B[0m \u001B[38;5;28;01mif\u001B[39;00m tracking_url_type_store \u001B[38;5;241m!=\u001B[39m \u001B[38;5;124m\"\u001B[39m\u001B[38;5;124mfile\u001B[39m\u001B[38;5;124m\"\u001B[39m:\n\u001B[0;32m     58\u001B[0m \n\u001B[0;32m     59\u001B[0m     \u001B[38;5;66;03m# Register the model\u001B[39;00m\n\u001B[0;32m     60\u001B[0m     \u001B[38;5;66;03m# There are other ways to use the Model Registry, which depends on the use case,\u001B[39;00m\n\u001B[0;32m     61\u001B[0m     \u001B[38;5;66;03m# please refer to the doc for more information:\u001B[39;00m\n\u001B[0;32m     62\u001B[0m     \u001B[38;5;66;03m# https://mlflow.org/docs/latest/model-registry.html#api-workflow\u001B[39;00m\n\u001B[1;32m---> 63\u001B[0m     \u001B[43mmlflow\u001B[49m\u001B[38;5;241;43m.\u001B[39;49m\u001B[43mkeras\u001B[49m\u001B[38;5;241;43m.\u001B[39;49m\u001B[43mlog_model\u001B[49m\u001B[43m(\u001B[49m\u001B[38;5;28;43mself\u001B[39;49m\u001B[38;5;241;43m.\u001B[39;49m\u001B[43mmodel\u001B[49m\u001B[43m,\u001B[49m\u001B[43m \u001B[49m\u001B[38;5;124;43m\"\u001B[39;49m\u001B[38;5;124;43mmodel\u001B[39;49m\u001B[38;5;124;43m\"\u001B[39;49m\u001B[43m,\u001B[49m\u001B[43m \u001B[49m\u001B[43mregistered_model_name\u001B[49m\u001B[38;5;241;43m=\u001B[39;49m\u001B[38;5;124;43m\"\u001B[39;49m\u001B[38;5;124;43mVGG16Model\u001B[39;49m\u001B[38;5;124;43m\"\u001B[39;49m\u001B[43m)\u001B[49m\n\u001B[0;32m     64\u001B[0m \u001B[38;5;28;01melse\u001B[39;00m:\n\u001B[0;32m     65\u001B[0m     mlflow\u001B[38;5;241m.\u001B[39mkeras\u001B[38;5;241m.\u001B[39mlog_model(\u001B[38;5;28mself\u001B[39m\u001B[38;5;241m.\u001B[39mmodel, \u001B[38;5;124m\"\u001B[39m\u001B[38;5;124mmodel\u001B[39m\u001B[38;5;124m\"\u001B[39m)\n",
      "File \u001B[1;32mC:\\deletable\\apps\\CoTProject\\code\\mlops\\mlopsEnv\\Lib\\site-packages\\mlflow\\tensorflow\\__init__.py:200\u001B[0m, in \u001B[0;36mlog_model\u001B[1;34m(model, artifact_path, custom_objects, conda_env, code_paths, signature, input_example, registered_model_name, await_registration_for, pip_requirements, extra_pip_requirements, saved_model_kwargs, keras_model_kwargs, metadata)\u001B[0m\n\u001B[0;32m    120\u001B[0m \u001B[38;5;129m@format_docstring\u001B[39m(LOG_MODEL_PARAM_DOCS\u001B[38;5;241m.\u001B[39mformat(package_name\u001B[38;5;241m=\u001B[39mFLAVOR_NAME))\n\u001B[0;32m    121\u001B[0m \u001B[38;5;28;01mdef\u001B[39;00m \u001B[38;5;21mlog_model\u001B[39m(\n\u001B[0;32m    122\u001B[0m     model,\n\u001B[1;32m   (...)\u001B[0m\n\u001B[0;32m    135\u001B[0m     metadata\u001B[38;5;241m=\u001B[39m\u001B[38;5;28;01mNone\u001B[39;00m,\n\u001B[0;32m    136\u001B[0m ):\n\u001B[0;32m    137\u001B[0m \u001B[38;5;250m    \u001B[39m\u001B[38;5;124;03m\"\"\"\u001B[39;00m\n\u001B[0;32m    138\u001B[0m \u001B[38;5;124;03m    Log a TF2 core model (inheriting tf.Module) or a Keras model in MLflow Model format.\u001B[39;00m\n\u001B[0;32m    139\u001B[0m \n\u001B[1;32m   (...)\u001B[0m\n\u001B[0;32m    197\u001B[0m \u001B[38;5;124;03m             metadata of the logged model.\u001B[39;00m\n\u001B[0;32m    198\u001B[0m \u001B[38;5;124;03m    \"\"\"\u001B[39;00m\n\u001B[1;32m--> 200\u001B[0m     \u001B[38;5;28;01mreturn\u001B[39;00m \u001B[43mModel\u001B[49m\u001B[38;5;241;43m.\u001B[39;49m\u001B[43mlog\u001B[49m\u001B[43m(\u001B[49m\n\u001B[0;32m    201\u001B[0m \u001B[43m        \u001B[49m\u001B[43martifact_path\u001B[49m\u001B[38;5;241;43m=\u001B[39;49m\u001B[43martifact_path\u001B[49m\u001B[43m,\u001B[49m\n\u001B[0;32m    202\u001B[0m \u001B[43m        \u001B[49m\u001B[43mflavor\u001B[49m\u001B[38;5;241;43m=\u001B[39;49m\u001B[43mmlflow\u001B[49m\u001B[38;5;241;43m.\u001B[39;49m\u001B[43mtensorflow\u001B[49m\u001B[43m,\u001B[49m\n\u001B[0;32m    203\u001B[0m \u001B[43m        \u001B[49m\u001B[43mmodel\u001B[49m\u001B[38;5;241;43m=\u001B[39;49m\u001B[43mmodel\u001B[49m\u001B[43m,\u001B[49m\n\u001B[0;32m    204\u001B[0m \u001B[43m        \u001B[49m\u001B[43mconda_env\u001B[49m\u001B[38;5;241;43m=\u001B[39;49m\u001B[43mconda_env\u001B[49m\u001B[43m,\u001B[49m\n\u001B[0;32m    205\u001B[0m \u001B[43m        \u001B[49m\u001B[43mcode_paths\u001B[49m\u001B[38;5;241;43m=\u001B[39;49m\u001B[43mcode_paths\u001B[49m\u001B[43m,\u001B[49m\n\u001B[0;32m    206\u001B[0m \u001B[43m        \u001B[49m\u001B[43mcustom_objects\u001B[49m\u001B[38;5;241;43m=\u001B[39;49m\u001B[43mcustom_objects\u001B[49m\u001B[43m,\u001B[49m\n\u001B[0;32m    207\u001B[0m \u001B[43m        \u001B[49m\u001B[43mregistered_model_name\u001B[49m\u001B[38;5;241;43m=\u001B[39;49m\u001B[43mregistered_model_name\u001B[49m\u001B[43m,\u001B[49m\n\u001B[0;32m    208\u001B[0m \u001B[43m        \u001B[49m\u001B[43msignature\u001B[49m\u001B[38;5;241;43m=\u001B[39;49m\u001B[43msignature\u001B[49m\u001B[43m,\u001B[49m\n\u001B[0;32m    209\u001B[0m \u001B[43m        \u001B[49m\u001B[43minput_example\u001B[49m\u001B[38;5;241;43m=\u001B[39;49m\u001B[43minput_example\u001B[49m\u001B[43m,\u001B[49m\n\u001B[0;32m    210\u001B[0m \u001B[43m        \u001B[49m\u001B[43mawait_registration_for\u001B[49m\u001B[38;5;241;43m=\u001B[39;49m\u001B[43mawait_registration_for\u001B[49m\u001B[43m,\u001B[49m\n\u001B[0;32m    211\u001B[0m \u001B[43m        \u001B[49m\u001B[43mpip_requirements\u001B[49m\u001B[38;5;241;43m=\u001B[39;49m\u001B[43mpip_requirements\u001B[49m\u001B[43m,\u001B[49m\n\u001B[0;32m    212\u001B[0m \u001B[43m        \u001B[49m\u001B[43mextra_pip_requirements\u001B[49m\u001B[38;5;241;43m=\u001B[39;49m\u001B[43mextra_pip_requirements\u001B[49m\u001B[43m,\u001B[49m\n\u001B[0;32m    213\u001B[0m \u001B[43m        \u001B[49m\u001B[43msaved_model_kwargs\u001B[49m\u001B[38;5;241;43m=\u001B[39;49m\u001B[43msaved_model_kwargs\u001B[49m\u001B[43m,\u001B[49m\n\u001B[0;32m    214\u001B[0m \u001B[43m        \u001B[49m\u001B[43mkeras_model_kwargs\u001B[49m\u001B[38;5;241;43m=\u001B[39;49m\u001B[43mkeras_model_kwargs\u001B[49m\u001B[43m,\u001B[49m\n\u001B[0;32m    215\u001B[0m \u001B[43m        \u001B[49m\u001B[43mmetadata\u001B[49m\u001B[38;5;241;43m=\u001B[39;49m\u001B[43mmetadata\u001B[49m\u001B[43m,\u001B[49m\n\u001B[0;32m    216\u001B[0m \u001B[43m    \u001B[49m\u001B[43m)\u001B[49m\n",
      "File \u001B[1;32mC:\\deletable\\apps\\CoTProject\\code\\mlops\\mlopsEnv\\Lib\\site-packages\\mlflow\\models\\model.py:620\u001B[0m, in \u001B[0;36mModel.log\u001B[1;34m(cls, artifact_path, flavor, registered_model_name, await_registration_for, metadata, **kwargs)\u001B[0m\n\u001B[0;32m    618\u001B[0m     _logger\u001B[38;5;241m.\u001B[39mwarning(_LOG_MODEL_MISSING_SIGNATURE_WARNING)\n\u001B[0;32m    619\u001B[0m flavor\u001B[38;5;241m.\u001B[39msave_model(path\u001B[38;5;241m=\u001B[39mlocal_path, mlflow_model\u001B[38;5;241m=\u001B[39mmlflow_model, \u001B[38;5;241m*\u001B[39m\u001B[38;5;241m*\u001B[39mkwargs)\n\u001B[1;32m--> 620\u001B[0m \u001B[43mmlflow\u001B[49m\u001B[38;5;241;43m.\u001B[39;49m\u001B[43mtracking\u001B[49m\u001B[38;5;241;43m.\u001B[39;49m\u001B[43mfluent\u001B[49m\u001B[38;5;241;43m.\u001B[39;49m\u001B[43mlog_artifacts\u001B[49m\u001B[43m(\u001B[49m\u001B[43mlocal_path\u001B[49m\u001B[43m,\u001B[49m\u001B[43m \u001B[49m\u001B[43mmlflow_model\u001B[49m\u001B[38;5;241;43m.\u001B[39;49m\u001B[43martifact_path\u001B[49m\u001B[43m)\u001B[49m\n\u001B[0;32m    621\u001B[0m \u001B[38;5;28;01mtry\u001B[39;00m:\n\u001B[0;32m    622\u001B[0m     mlflow\u001B[38;5;241m.\u001B[39mtracking\u001B[38;5;241m.\u001B[39mfluent\u001B[38;5;241m.\u001B[39m_record_logged_model(mlflow_model)\n",
      "File \u001B[1;32mC:\\deletable\\apps\\CoTProject\\code\\mlops\\mlopsEnv\\Lib\\site-packages\\mlflow\\tracking\\fluent.py:1008\u001B[0m, in \u001B[0;36mlog_artifacts\u001B[1;34m(local_dir, artifact_path)\u001B[0m\n\u001B[0;32m    978\u001B[0m \u001B[38;5;250m\u001B[39m\u001B[38;5;124;03m\"\"\"\u001B[39;00m\n\u001B[0;32m    979\u001B[0m \u001B[38;5;124;03mLog all the contents of a local directory as artifacts of the run. If no run is active,\u001B[39;00m\n\u001B[0;32m    980\u001B[0m \u001B[38;5;124;03mthis method will create a new active run.\u001B[39;00m\n\u001B[1;32m   (...)\u001B[0m\n\u001B[0;32m   1005\u001B[0m \u001B[38;5;124;03m        mlflow.log_artifacts(\"data\", artifact_path=\"states\")\u001B[39;00m\n\u001B[0;32m   1006\u001B[0m \u001B[38;5;124;03m\"\"\"\u001B[39;00m\n\u001B[0;32m   1007\u001B[0m run_id \u001B[38;5;241m=\u001B[39m _get_or_start_run()\u001B[38;5;241m.\u001B[39minfo\u001B[38;5;241m.\u001B[39mrun_id\n\u001B[1;32m-> 1008\u001B[0m \u001B[43mMlflowClient\u001B[49m\u001B[43m(\u001B[49m\u001B[43m)\u001B[49m\u001B[38;5;241;43m.\u001B[39;49m\u001B[43mlog_artifacts\u001B[49m\u001B[43m(\u001B[49m\u001B[43mrun_id\u001B[49m\u001B[43m,\u001B[49m\u001B[43m \u001B[49m\u001B[43mlocal_dir\u001B[49m\u001B[43m,\u001B[49m\u001B[43m \u001B[49m\u001B[43martifact_path\u001B[49m\u001B[43m)\u001B[49m\n",
      "File \u001B[1;32mC:\\deletable\\apps\\CoTProject\\code\\mlops\\mlopsEnv\\Lib\\site-packages\\mlflow\\tracking\\client.py:1188\u001B[0m, in \u001B[0;36mMlflowClient.log_artifacts\u001B[1;34m(self, run_id, local_dir, artifact_path)\u001B[0m\n\u001B[0;32m   1144\u001B[0m \u001B[38;5;28;01mdef\u001B[39;00m \u001B[38;5;21mlog_artifacts\u001B[39m(\n\u001B[0;32m   1145\u001B[0m     \u001B[38;5;28mself\u001B[39m, run_id: \u001B[38;5;28mstr\u001B[39m, local_dir: \u001B[38;5;28mstr\u001B[39m, artifact_path: Optional[\u001B[38;5;28mstr\u001B[39m] \u001B[38;5;241m=\u001B[39m \u001B[38;5;28;01mNone\u001B[39;00m\n\u001B[0;32m   1146\u001B[0m ) \u001B[38;5;241m-\u001B[39m\u001B[38;5;241m>\u001B[39m \u001B[38;5;28;01mNone\u001B[39;00m:\n\u001B[0;32m   1147\u001B[0m \u001B[38;5;250m    \u001B[39m\u001B[38;5;124;03m\"\"\"\u001B[39;00m\n\u001B[0;32m   1148\u001B[0m \u001B[38;5;124;03m    Write a directory of files to the remote ``artifact_uri``.\u001B[39;00m\n\u001B[0;32m   1149\u001B[0m \n\u001B[1;32m   (...)\u001B[0m\n\u001B[0;32m   1186\u001B[0m \u001B[38;5;124;03m        is_dir: True\u001B[39;00m\n\u001B[0;32m   1187\u001B[0m \u001B[38;5;124;03m    \"\"\"\u001B[39;00m\n\u001B[1;32m-> 1188\u001B[0m     \u001B[38;5;28;43mself\u001B[39;49m\u001B[38;5;241;43m.\u001B[39;49m\u001B[43m_tracking_client\u001B[49m\u001B[38;5;241;43m.\u001B[39;49m\u001B[43mlog_artifacts\u001B[49m\u001B[43m(\u001B[49m\u001B[43mrun_id\u001B[49m\u001B[43m,\u001B[49m\u001B[43m \u001B[49m\u001B[43mlocal_dir\u001B[49m\u001B[43m,\u001B[49m\u001B[43m \u001B[49m\u001B[43martifact_path\u001B[49m\u001B[43m)\u001B[49m\n",
      "File \u001B[1;32mC:\\deletable\\apps\\CoTProject\\code\\mlops\\mlopsEnv\\Lib\\site-packages\\mlflow\\tracking\\_tracking_service\\client.py:538\u001B[0m, in \u001B[0;36mTrackingServiceClient.log_artifacts\u001B[1;34m(self, run_id, local_dir, artifact_path)\u001B[0m\n\u001B[0;32m    531\u001B[0m \u001B[38;5;28;01mdef\u001B[39;00m \u001B[38;5;21mlog_artifacts\u001B[39m(\u001B[38;5;28mself\u001B[39m, run_id, local_dir, artifact_path\u001B[38;5;241m=\u001B[39m\u001B[38;5;28;01mNone\u001B[39;00m):\n\u001B[0;32m    532\u001B[0m \u001B[38;5;250m    \u001B[39m\u001B[38;5;124;03m\"\"\"\u001B[39;00m\n\u001B[0;32m    533\u001B[0m \u001B[38;5;124;03m    Write a directory of files to the remote ``artifact_uri``.\u001B[39;00m\n\u001B[0;32m    534\u001B[0m \n\u001B[0;32m    535\u001B[0m \u001B[38;5;124;03m    :param local_dir: Path to the directory of files to write.\u001B[39;00m\n\u001B[0;32m    536\u001B[0m \u001B[38;5;124;03m    :param artifact_path: If provided, the directory in ``artifact_uri`` to write to.\u001B[39;00m\n\u001B[0;32m    537\u001B[0m \u001B[38;5;124;03m    \"\"\"\u001B[39;00m\n\u001B[1;32m--> 538\u001B[0m     \u001B[38;5;28;43mself\u001B[39;49m\u001B[38;5;241;43m.\u001B[39;49m\u001B[43m_get_artifact_repo\u001B[49m\u001B[43m(\u001B[49m\u001B[43mrun_id\u001B[49m\u001B[43m)\u001B[49m\u001B[38;5;241m.\u001B[39mlog_artifacts(local_dir, artifact_path)\n",
      "File \u001B[1;32mC:\\deletable\\apps\\CoTProject\\code\\mlops\\mlopsEnv\\Lib\\site-packages\\mlflow\\tracking\\_tracking_service\\client.py:502\u001B[0m, in \u001B[0;36mTrackingServiceClient._get_artifact_repo\u001B[1;34m(self, run_id)\u001B[0m\n\u001B[0;32m    500\u001B[0m     \u001B[38;5;28;01mreturn\u001B[39;00m cached_repo\n\u001B[0;32m    501\u001B[0m \u001B[38;5;28;01melse\u001B[39;00m:\n\u001B[1;32m--> 502\u001B[0m     run \u001B[38;5;241m=\u001B[39m \u001B[38;5;28;43mself\u001B[39;49m\u001B[38;5;241;43m.\u001B[39;49m\u001B[43mget_run\u001B[49m\u001B[43m(\u001B[49m\u001B[43mrun_id\u001B[49m\u001B[43m)\u001B[49m\n\u001B[0;32m    503\u001B[0m     artifact_uri \u001B[38;5;241m=\u001B[39m add_databricks_profile_info_to_artifact_uri(\n\u001B[0;32m    504\u001B[0m         run\u001B[38;5;241m.\u001B[39minfo\u001B[38;5;241m.\u001B[39martifact_uri, \u001B[38;5;28mself\u001B[39m\u001B[38;5;241m.\u001B[39mtracking_uri\n\u001B[0;32m    505\u001B[0m     )\n\u001B[0;32m    506\u001B[0m     artifact_repo \u001B[38;5;241m=\u001B[39m get_artifact_repository(artifact_uri)\n",
      "File \u001B[1;32mC:\\deletable\\apps\\CoTProject\\code\\mlops\\mlopsEnv\\Lib\\site-packages\\mlflow\\tracking\\_tracking_service\\client.py:73\u001B[0m, in \u001B[0;36mTrackingServiceClient.get_run\u001B[1;34m(self, run_id)\u001B[0m\n\u001B[0;32m     59\u001B[0m \u001B[38;5;250m\u001B[39m\u001B[38;5;124;03m\"\"\"\u001B[39;00m\n\u001B[0;32m     60\u001B[0m \u001B[38;5;124;03mFetch the run from backend store. The resulting :py:class:`Run <mlflow.entities.Run>`\u001B[39;00m\n\u001B[0;32m     61\u001B[0m \u001B[38;5;124;03mcontains a collection of run metadata -- :py:class:`RunInfo <mlflow.entities.RunInfo>`,\u001B[39;00m\n\u001B[1;32m   (...)\u001B[0m\n\u001B[0;32m     70\u001B[0m \u001B[38;5;124;03m         raises an exception.\u001B[39;00m\n\u001B[0;32m     71\u001B[0m \u001B[38;5;124;03m\"\"\"\u001B[39;00m\n\u001B[0;32m     72\u001B[0m _validate_run_id(run_id)\n\u001B[1;32m---> 73\u001B[0m \u001B[38;5;28;01mreturn\u001B[39;00m \u001B[38;5;28;43mself\u001B[39;49m\u001B[38;5;241;43m.\u001B[39;49m\u001B[43mstore\u001B[49m\u001B[38;5;241;43m.\u001B[39;49m\u001B[43mget_run\u001B[49m\u001B[43m(\u001B[49m\u001B[43mrun_id\u001B[49m\u001B[43m)\u001B[49m\n",
      "File \u001B[1;32mC:\\deletable\\apps\\CoTProject\\code\\mlops\\mlopsEnv\\Lib\\site-packages\\mlflow\\store\\tracking\\rest_store.py:137\u001B[0m, in \u001B[0;36mRestStore.get_run\u001B[1;34m(self, run_id)\u001B[0m\n\u001B[0;32m    129\u001B[0m \u001B[38;5;250m\u001B[39m\u001B[38;5;124;03m\"\"\"\u001B[39;00m\n\u001B[0;32m    130\u001B[0m \u001B[38;5;124;03mFetch the run from backend store\u001B[39;00m\n\u001B[0;32m    131\u001B[0m \n\u001B[1;32m   (...)\u001B[0m\n\u001B[0;32m    134\u001B[0m \u001B[38;5;124;03m:return: A single Run object if it exists, otherwise raises an Exception\u001B[39;00m\n\u001B[0;32m    135\u001B[0m \u001B[38;5;124;03m\"\"\"\u001B[39;00m\n\u001B[0;32m    136\u001B[0m req_body \u001B[38;5;241m=\u001B[39m message_to_json(GetRun(run_uuid\u001B[38;5;241m=\u001B[39mrun_id, run_id\u001B[38;5;241m=\u001B[39mrun_id))\n\u001B[1;32m--> 137\u001B[0m response_proto \u001B[38;5;241m=\u001B[39m \u001B[38;5;28;43mself\u001B[39;49m\u001B[38;5;241;43m.\u001B[39;49m\u001B[43m_call_endpoint\u001B[49m\u001B[43m(\u001B[49m\u001B[43mGetRun\u001B[49m\u001B[43m,\u001B[49m\u001B[43m \u001B[49m\u001B[43mreq_body\u001B[49m\u001B[43m)\u001B[49m\n\u001B[0;32m    138\u001B[0m \u001B[38;5;28;01mreturn\u001B[39;00m Run\u001B[38;5;241m.\u001B[39mfrom_proto(response_proto\u001B[38;5;241m.\u001B[39mrun)\n",
      "File \u001B[1;32mC:\\deletable\\apps\\CoTProject\\code\\mlops\\mlopsEnv\\Lib\\site-packages\\mlflow\\store\\tracking\\rest_store.py:59\u001B[0m, in \u001B[0;36mRestStore._call_endpoint\u001B[1;34m(self, api, json_body)\u001B[0m\n\u001B[0;32m     57\u001B[0m endpoint, method \u001B[38;5;241m=\u001B[39m _METHOD_TO_INFO[api]\n\u001B[0;32m     58\u001B[0m response_proto \u001B[38;5;241m=\u001B[39m api\u001B[38;5;241m.\u001B[39mResponse()\n\u001B[1;32m---> 59\u001B[0m \u001B[38;5;28;01mreturn\u001B[39;00m \u001B[43mcall_endpoint\u001B[49m\u001B[43m(\u001B[49m\u001B[38;5;28;43mself\u001B[39;49m\u001B[38;5;241;43m.\u001B[39;49m\u001B[43mget_host_creds\u001B[49m\u001B[43m(\u001B[49m\u001B[43m)\u001B[49m\u001B[43m,\u001B[49m\u001B[43m \u001B[49m\u001B[43mendpoint\u001B[49m\u001B[43m,\u001B[49m\u001B[43m \u001B[49m\u001B[43mmethod\u001B[49m\u001B[43m,\u001B[49m\u001B[43m \u001B[49m\u001B[43mjson_body\u001B[49m\u001B[43m,\u001B[49m\u001B[43m \u001B[49m\u001B[43mresponse_proto\u001B[49m\u001B[43m)\u001B[49m\n",
      "File \u001B[1;32mC:\\deletable\\apps\\CoTProject\\code\\mlops\\mlopsEnv\\Lib\\site-packages\\mlflow\\utils\\rest_utils.py:210\u001B[0m, in \u001B[0;36mcall_endpoint\u001B[1;34m(host_creds, endpoint, method, json_body, response_proto, extra_headers)\u001B[0m\n\u001B[0;32m    208\u001B[0m     call_kwargs[\u001B[38;5;124m\"\u001B[39m\u001B[38;5;124mjson\u001B[39m\u001B[38;5;124m\"\u001B[39m] \u001B[38;5;241m=\u001B[39m json_body\n\u001B[0;32m    209\u001B[0m     response \u001B[38;5;241m=\u001B[39m http_request(\u001B[38;5;241m*\u001B[39m\u001B[38;5;241m*\u001B[39mcall_kwargs)\n\u001B[1;32m--> 210\u001B[0m response \u001B[38;5;241m=\u001B[39m \u001B[43mverify_rest_response\u001B[49m\u001B[43m(\u001B[49m\u001B[43mresponse\u001B[49m\u001B[43m,\u001B[49m\u001B[43m \u001B[49m\u001B[43mendpoint\u001B[49m\u001B[43m)\u001B[49m\n\u001B[0;32m    211\u001B[0m js_dict \u001B[38;5;241m=\u001B[39m json\u001B[38;5;241m.\u001B[39mloads(response\u001B[38;5;241m.\u001B[39mtext)\n\u001B[0;32m    212\u001B[0m parse_dict(js_dict\u001B[38;5;241m=\u001B[39mjs_dict, message\u001B[38;5;241m=\u001B[39mresponse_proto)\n",
      "File \u001B[1;32mC:\\deletable\\apps\\CoTProject\\code\\mlops\\mlopsEnv\\Lib\\site-packages\\mlflow\\utils\\rest_utils.py:148\u001B[0m, in \u001B[0;36mverify_rest_response\u001B[1;34m(response, endpoint)\u001B[0m\n\u001B[0;32m    143\u001B[0m     \u001B[38;5;28;01melse\u001B[39;00m:\n\u001B[0;32m    144\u001B[0m         base_msg \u001B[38;5;241m=\u001B[39m (\n\u001B[0;32m    145\u001B[0m             \u001B[38;5;124mf\u001B[39m\u001B[38;5;124m\"\u001B[39m\u001B[38;5;124mAPI request to endpoint \u001B[39m\u001B[38;5;132;01m{\u001B[39;00mendpoint\u001B[38;5;132;01m}\u001B[39;00m\u001B[38;5;124m \u001B[39m\u001B[38;5;124m\"\u001B[39m\n\u001B[0;32m    146\u001B[0m             \u001B[38;5;124mf\u001B[39m\u001B[38;5;124m\"\u001B[39m\u001B[38;5;124mfailed with error code \u001B[39m\u001B[38;5;132;01m{\u001B[39;00mresponse\u001B[38;5;241m.\u001B[39mstatus_code\u001B[38;5;132;01m}\u001B[39;00m\u001B[38;5;124m != 200\u001B[39m\u001B[38;5;124m\"\u001B[39m\n\u001B[0;32m    147\u001B[0m         )\n\u001B[1;32m--> 148\u001B[0m         \u001B[38;5;28;01mraise\u001B[39;00m MlflowException(\n\u001B[0;32m    149\u001B[0m             \u001B[38;5;124mf\u001B[39m\u001B[38;5;124m\"\u001B[39m\u001B[38;5;132;01m{\u001B[39;00mbase_msg\u001B[38;5;132;01m}\u001B[39;00m\u001B[38;5;124m. Response body: \u001B[39m\u001B[38;5;124m'\u001B[39m\u001B[38;5;132;01m{\u001B[39;00mresponse\u001B[38;5;241m.\u001B[39mtext\u001B[38;5;132;01m}\u001B[39;00m\u001B[38;5;124m'\u001B[39m\u001B[38;5;124m\"\u001B[39m,\n\u001B[0;32m    150\u001B[0m             error_code\u001B[38;5;241m=\u001B[39mget_error_code(response\u001B[38;5;241m.\u001B[39mstatus_code),\n\u001B[0;32m    151\u001B[0m         )\n\u001B[0;32m    153\u001B[0m \u001B[38;5;66;03m# Skip validation for endpoints (e.g. DBFS file-download API) which may return a non-JSON\u001B[39;00m\n\u001B[0;32m    154\u001B[0m \u001B[38;5;66;03m# response\u001B[39;00m\n\u001B[0;32m    155\u001B[0m \u001B[38;5;28;01mif\u001B[39;00m endpoint\u001B[38;5;241m.\u001B[39mstartswith(_REST_API_PATH_PREFIX) \u001B[38;5;129;01mand\u001B[39;00m \u001B[38;5;129;01mnot\u001B[39;00m _can_parse_as_json_object(response\u001B[38;5;241m.\u001B[39mtext):\n",
      "\u001B[1;31mMlflowException\u001B[0m: API request to endpoint /api/2.0/mlflow/runs/get failed with error code 400 != 200. Response body: '\"repo not associated with run\"'"
     ]
    }
   ],
   "source": [
    "\n",
    "try:\n",
    "    config = ConfigurationManager()\n",
    "    eval_config = config.get_evaluation_config()\n",
    "    evaluation = Evaluation(eval_config)\n",
    "    evaluation.evaluation()\n",
    "    evaluation.log_into_mlflow()\n",
    "\n",
    "except Exception as e:\n",
    "   raise e"
   ]
  },
  {
   "cell_type": "code",
   "execution_count": 34,
   "metadata": {
    "ExecuteTime": {
     "end_time": "2023-11-11T16:17:19.883964300Z",
     "start_time": "2023-11-11T16:17:19.880962700Z"
    }
   },
   "outputs": [],
   "source": []
  },
  {
   "cell_type": "code",
   "execution_count": 34,
   "outputs": [],
   "source": [],
   "metadata": {
    "collapsed": false,
    "ExecuteTime": {
     "end_time": "2023-11-11T16:17:19.896887600Z",
     "start_time": "2023-11-11T16:17:19.884881300Z"
    }
   }
  },
  {
   "cell_type": "code",
   "execution_count": null,
   "outputs": [],
   "source": [],
   "metadata": {
    "collapsed": false
   }
  }
 ],
 "metadata": {
  "kernelspec": {
   "display_name": "kidney",
   "language": "python",
   "name": "python3"
  },
  "language_info": {
   "codemirror_mode": {
    "name": "ipython",
    "version": 3
   },
   "file_extension": ".py",
   "mimetype": "text/x-python",
   "name": "python",
   "nbconvert_exporter": "python",
   "pygments_lexer": "ipython3",
   "version": "3.8.18"
  },
  "orig_nbformat": 4
 },
 "nbformat": 4,
 "nbformat_minor": 2
}
